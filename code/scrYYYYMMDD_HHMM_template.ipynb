{
 "cells": [
  {
   "cell_type": "code",
   "execution_count": 1,
   "metadata": {},
   "outputs": [],
   "source": [
    "# -*- coding: utf-8 -*-"
   ]
  },
  {
   "cell_type": "markdown",
   "metadata": {},
   "source": [
    "# data analysis template\n",
    "Copyright (c) 2020 Yuichi Takeuchi"
   ]
  },
  {
   "cell_type": "markdown",
   "metadata": {},
   "source": [
    "## import standard modules"
   ]
  },
  {
   "cell_type": "code",
   "execution_count": 2,
   "metadata": {},
   "outputs": [],
   "source": [
    "import sys\n",
    "# import numpy as np\n",
    "# import pandas as pd\n",
    "# import matplotlib.pyplot as plt\n",
    "# import scipy as sp\n",
    "# import h5py"
   ]
  },
  {
   "cell_type": "markdown",
   "metadata": {},
   "source": [
    "## path"
   ]
  },
  {
   "cell_type": "code",
   "execution_count": 3,
   "metadata": {},
   "outputs": [],
   "source": [
    "sys.path.append('../code/helper')\n",
    "sys.path.append('../code/lib')\n",
    "sys.path.append('../code/lib/python_utils/')"
   ]
  },
  {
   "cell_type": "markdown",
   "metadata": {},
   "source": [
    "## import home-made modules"
   ]
  },
  {
   "cell_type": "code",
   "execution_count": 4,
   "metadata": {},
   "outputs": [],
   "source": [
    "%load_ext autoreload\n",
    "%autoreload 2\n",
    "import templatefunc\n",
    "import template_defOnly\n",
    "import template_mainFunc\n",
    "import template_mainScript\n",
    "import mypkg\n",
    "from mypkg import test\n",
    "from mypkg.subpkg import test as subtest"
   ]
  },
  {
   "cell_type": "code",
   "execution_count": 5,
   "metadata": {},
   "outputs": [
    {
     "name": "stdout",
     "output_type": "stream",
     "text": [
      "this is testfunc1 method of mypkg.\n",
      "this is testfunc1 method of mypkg.\n",
      "this is testfunc2 method of mypkg.\n",
      "this is testfunc1 in the subpkg of mypkg\n",
      "this is testfunc2 in the subpkg of mypkg\n"
     ]
    }
   ],
   "source": [
    "mypkg.test.testfunc1()\n",
    "test.testfunc1()\n",
    "test.testfunc2()\n",
    "test.testfunc3(1,2)\n",
    "subtest.testfunc1()\n",
    "subtest.testfunc2()"
   ]
  }
 ],
 "metadata": {
  "kernelspec": {
   "display_name": "Python 3",
   "language": "python",
   "name": "python3"
  },
  "language_info": {
   "codemirror_mode": {
    "name": "ipython",
    "version": 3
   },
   "file_extension": ".py",
   "mimetype": "text/x-python",
   "name": "python",
   "nbconvert_exporter": "python",
   "pygments_lexer": "ipython3",
   "version": "3.8.6"
  },
  "nteract": {
   "version": "0.23.3"
  }
 },
 "nbformat": 4,
 "nbformat_minor": 4
}
